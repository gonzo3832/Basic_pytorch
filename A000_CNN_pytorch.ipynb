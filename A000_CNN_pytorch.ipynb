{
 "cells": [
  {
   "cell_type": "markdown",
   "metadata": {},
   "source": [
    "# Overview\n",
    "pytorchによるCNNの実装を行う\n",
    "0. seed値の固定\n",
    "1. dataset, dataloader classの作成\n",
    "2. modelの定義\n",
    "3. loss関数、optimizerの定義\n",
    "4. trainingとvalidation\n",
    "5. test dataによる性能評価\n",
    "\n",
    "扱わないこと  \n",
    "K分割交差検証、GPUの利用方法、callbackの利用方法、分類問題の解き方"
   ]
  },
  {
   "cell_type": "markdown",
   "metadata": {
    "id": "Vw8jqZAX194n"
   },
   "source": [
    "# 0. seed値の固定\n",
    "乱数値を固定する。  \n",
    "再現性が取れなくなるので絶対にやりましょう"
   ]
  },
  {
   "cell_type": "code",
   "execution_count": 1,
   "metadata": {
    "id": "SglMll7M19gZ"
   },
   "outputs": [],
   "source": [
    "import random\n",
    "import numpy as np\n",
    "import os\n",
    "import torch\n",
    "\n",
    "def set_seed(seed: int = 42):\n",
    "    random.seed(seed)\n",
    "    np.random.seed(seed)\n",
    "    os.environ[\"PYTHONHASHSEED\"] = str(seed)\n",
    "    torch.manual_seed(seed)\n",
    "    if torch.cuda.is_available():\n",
    "        torch.cuda.manual_seed(seed)  # type: ignore\n",
    "set_seed()"
   ]
  },
  {
   "cell_type": "markdown",
   "metadata": {
    "id": "28giwta11QAA"
   },
   "source": [
    "# 1. dataset,dataloader classの作成\n",
    "学習させるデータをdataset class,  \n",
    "データをバッチ毎にloadする存在をdataloader classとして定義する。  \n",
    "詳しくは以下のサイト参照  \n",
    "https://ohke.hateblo.jp/entry/2019/12/28/230000"
   ]
  },
  {
   "cell_type": "markdown",
   "metadata": {
    "id": "2alIKLwA1lOK"
   },
   "source": [
    "dataは、画像データ群と、画像データのファイル名等のメタ情報をまとめたdataframeの組み合わせとして用意するのが一般的。  \n",
    "まずはdataframeからデータを理解する"
   ]
  },
  {
   "cell_type": "code",
   "execution_count": 2,
   "metadata": {
    "id": "K2dSYlP5q1B5",
    "outputId": "a1207700-2795-4c4c-a10d-5626dac1c775"
   },
   "outputs": [
    {
     "name": "stdout",
     "output_type": "stream",
     "text": [
      "180\n"
     ]
    },
    {
     "data": {
      "text/html": [
       "<div>\n",
       "<style scoped>\n",
       "    .dataframe tbody tr th:only-of-type {\n",
       "        vertical-align: middle;\n",
       "    }\n",
       "\n",
       "    .dataframe tbody tr th {\n",
       "        vertical-align: top;\n",
       "    }\n",
       "\n",
       "    .dataframe thead th {\n",
       "        text-align: right;\n",
       "    }\n",
       "</style>\n",
       "<table border=\"1\" class=\"dataframe\">\n",
       "  <thead>\n",
       "    <tr style=\"text-align: right;\">\n",
       "      <th></th>\n",
       "      <th>x</th>\n",
       "      <th>y</th>\n",
       "    </tr>\n",
       "  </thead>\n",
       "  <tbody>\n",
       "    <tr>\n",
       "      <th>0</th>\n",
       "      <td>img_13831.jpg</td>\n",
       "      <td>0</td>\n",
       "    </tr>\n",
       "    <tr>\n",
       "      <th>1</th>\n",
       "      <td>img_14186.jpg</td>\n",
       "      <td>0</td>\n",
       "    </tr>\n",
       "    <tr>\n",
       "      <th>2</th>\n",
       "      <td>img_30030.jpg</td>\n",
       "      <td>0</td>\n",
       "    </tr>\n",
       "    <tr>\n",
       "      <th>3</th>\n",
       "      <td>img_21129.jpg</td>\n",
       "      <td>0</td>\n",
       "    </tr>\n",
       "    <tr>\n",
       "      <th>4</th>\n",
       "      <td>img_37993.jpg</td>\n",
       "      <td>0</td>\n",
       "    </tr>\n",
       "  </tbody>\n",
       "</table>\n",
       "</div>"
      ],
      "text/plain": [
       "               x  y\n",
       "0  img_13831.jpg  0\n",
       "1  img_14186.jpg  0\n",
       "2  img_30030.jpg  0\n",
       "3  img_21129.jpg  0\n",
       "4  img_37993.jpg  0"
      ]
     },
     "execution_count": 2,
     "metadata": {},
     "output_type": "execute_result"
    }
   ],
   "source": [
    "import pandas as pd\n",
    "\n",
    "train_data_dir = 'inputs/MNIST_small/train'\n",
    "df = pd.read_csv(os.path.join(train_data_dir,'train.csv'))\n",
    "print(len(df))\n",
    "df.head()\n"
   ]
  },
  {
   "cell_type": "markdown",
   "metadata": {
    "id": "Px6_qiCZ10xd"
   },
   "source": [
    "trainとvalidationに分割"
   ]
  },
  {
   "cell_type": "code",
   "execution_count": 3,
   "metadata": {
    "id": "imA2hcVqq1B8",
    "outputId": "83ea6bae-969d-4d6b-89a8-88d215690b51"
   },
   "outputs": [
    {
     "name": "stdout",
     "output_type": "stream",
     "text": [
      "num data train: 144\n",
      "num data train: 36\n"
     ]
    },
    {
     "data": {
      "text/html": [
       "<div>\n",
       "<style scoped>\n",
       "    .dataframe tbody tr th:only-of-type {\n",
       "        vertical-align: middle;\n",
       "    }\n",
       "\n",
       "    .dataframe tbody tr th {\n",
       "        vertical-align: top;\n",
       "    }\n",
       "\n",
       "    .dataframe thead th {\n",
       "        text-align: right;\n",
       "    }\n",
       "</style>\n",
       "<table border=\"1\" class=\"dataframe\">\n",
       "  <thead>\n",
       "    <tr style=\"text-align: right;\">\n",
       "      <th></th>\n",
       "      <th>x</th>\n",
       "      <th>y</th>\n",
       "    </tr>\n",
       "  </thead>\n",
       "  <tbody>\n",
       "    <tr>\n",
       "      <th>143</th>\n",
       "      <td>img_5811.jpg</td>\n",
       "      <td>2</td>\n",
       "    </tr>\n",
       "    <tr>\n",
       "      <th>174</th>\n",
       "      <td>img_32182.jpg</td>\n",
       "      <td>5</td>\n",
       "    </tr>\n",
       "    <tr>\n",
       "      <th>24</th>\n",
       "      <td>img_34524.jpg</td>\n",
       "      <td>7</td>\n",
       "    </tr>\n",
       "    <tr>\n",
       "      <th>60</th>\n",
       "      <td>img_30756.jpg</td>\n",
       "      <td>1</td>\n",
       "    </tr>\n",
       "    <tr>\n",
       "      <th>157</th>\n",
       "      <td>img_22408.jpg</td>\n",
       "      <td>2</td>\n",
       "    </tr>\n",
       "  </tbody>\n",
       "</table>\n",
       "</div>"
      ],
      "text/plain": [
       "                 x  y\n",
       "143   img_5811.jpg  2\n",
       "174  img_32182.jpg  5\n",
       "24   img_34524.jpg  7\n",
       "60   img_30756.jpg  1\n",
       "157  img_22408.jpg  2"
      ]
     },
     "execution_count": 3,
     "metadata": {},
     "output_type": "execute_result"
    }
   ],
   "source": [
    "import sklearn.model_selection as sms\n",
    "train_df,valid_df = sms.train_test_split(df,test_size = 0.2,stratify=df['y'],random_state=42)\n",
    "print(f'num data train: {len(train_df)}')\n",
    "print(f'num data train: {len(valid_df)}')\n",
    "valid_df.head()"
   ]
  },
  {
   "cell_type": "code",
   "execution_count": 4,
   "metadata": {
    "id": "t5xjE7FZq1B-",
    "outputId": "3139482c-74b7-4c8d-bc5a-34500b711d31"
   },
   "outputs": [
    {
     "name": "stdout",
     "output_type": "stream",
     "text": [
      "45\n"
     ]
    },
    {
     "data": {
      "text/html": [
       "<div>\n",
       "<style scoped>\n",
       "    .dataframe tbody tr th:only-of-type {\n",
       "        vertical-align: middle;\n",
       "    }\n",
       "\n",
       "    .dataframe tbody tr th {\n",
       "        vertical-align: top;\n",
       "    }\n",
       "\n",
       "    .dataframe thead th {\n",
       "        text-align: right;\n",
       "    }\n",
       "</style>\n",
       "<table border=\"1\" class=\"dataframe\">\n",
       "  <thead>\n",
       "    <tr style=\"text-align: right;\">\n",
       "      <th></th>\n",
       "      <th>x</th>\n",
       "      <th>y</th>\n",
       "    </tr>\n",
       "  </thead>\n",
       "  <tbody>\n",
       "    <tr>\n",
       "      <th>0</th>\n",
       "      <td>img_14179.jpg</td>\n",
       "      <td>0</td>\n",
       "    </tr>\n",
       "    <tr>\n",
       "      <th>1</th>\n",
       "      <td>img_41636.jpg</td>\n",
       "      <td>0</td>\n",
       "    </tr>\n",
       "    <tr>\n",
       "      <th>2</th>\n",
       "      <td>img_17470.jpg</td>\n",
       "      <td>0</td>\n",
       "    </tr>\n",
       "    <tr>\n",
       "      <th>3</th>\n",
       "      <td>img_8460.jpg</td>\n",
       "      <td>0</td>\n",
       "    </tr>\n",
       "    <tr>\n",
       "      <th>4</th>\n",
       "      <td>img_3253.jpg</td>\n",
       "      <td>0</td>\n",
       "    </tr>\n",
       "  </tbody>\n",
       "</table>\n",
       "</div>"
      ],
      "text/plain": [
       "               x  y\n",
       "0  img_14179.jpg  0\n",
       "1  img_41636.jpg  0\n",
       "2  img_17470.jpg  0\n",
       "3   img_8460.jpg  0\n",
       "4   img_3253.jpg  0"
      ]
     },
     "execution_count": 4,
     "metadata": {},
     "output_type": "execute_result"
    }
   ],
   "source": [
    "test_data_dir = 'inputs/MNIST_small/test'\n",
    "test_df = pd.read_csv(os.path.join(test_data_dir,'test.csv'))\n",
    "print(len(test_df))\n",
    "test_df.head()"
   ]
  },
  {
   "cell_type": "markdown",
   "metadata": {
    "id": "c9hvuzr52Q3a"
   },
   "source": [
    "画像の読み込みをしてみる"
   ]
  },
  {
   "cell_type": "code",
   "execution_count": 5,
   "metadata": {
    "id": "7TwPvEcNq1B_",
    "outputId": "a1a87a98-5e5f-461e-d40d-63a84ccda076"
   },
   "outputs": [
    {
     "name": "stdout",
     "output_type": "stream",
     "text": [
      "L\n",
      "(28, 28)\n"
     ]
    },
    {
     "data": {
      "text/plain": [
       "<matplotlib.image.AxesImage at 0x7f648aa584e0>"
      ]
     },
     "execution_count": 5,
     "metadata": {},
     "output_type": "execute_result"
    },
    {
     "data": {
      "image/png": "[encoded data removed]",
      "text/plain": [
       "<Figure size 432x288 with 1 Axes>"
      ]
     },
     "metadata": {},
     "output_type": "display_data"
    }
   ],
   "source": [
    "from PIL import Image\n",
    "from matplotlib import pyplot as plt\n",
    "\n",
    "img = Image.open(os.path.join(test_data_dir,test_df['x'].values[0]))\n",
    "print(img.mode)\n",
    "print(img.size)\n",
    "plt.imshow(img)"
   ]
  },
  {
   "cell_type": "code",
   "execution_count": 6,
   "metadata": {
    "id": "AYEL1Iu2q1CB"
   },
   "outputs": [],
   "source": [
    "import torch\n",
    "from torch.utils.data import Dataset, DataLoader\n",
    "from torchvision.transforms import transforms\n",
    "\n",
    "transform = transforms.Compose([\n",
    "    transforms.Lambda(lambda x: x.convert('L')),\n",
    "    transforms.Resize((28, 28)),\n",
    "    transforms.ToTensor(),\n",
    "])\n",
    "\n",
    "\n",
    "class OriginalDataset(Dataset):\n",
    "    def __init__(self, data_dir, df,tranform):\n",
    "        self.data_dir = data_dir\n",
    "        self.df = df\n",
    "        self.transform = transform\n",
    "\n",
    "    def __len__(self):\n",
    "        return len(self.df)\n",
    "\n",
    "    def __getitem__(self,idx):\n",
    "        image_file_name = self.df['x'].values[idx]\n",
    "        x = Image.open(os.path.join(self.data_dir, image_file_name))\n",
    "        x = self.transform(x)\n",
    "\n",
    "        y = self.df['y'].values[idx]\n",
    "\n",
    "        return x.float(), torch.tensor(y).float()\n",
    "\n",
    "train_dataset = OriginalDataset(train_data_dir,train_df,transform)\n",
    "valid_dataset = OriginalDataset(train_data_dir,valid_df,transform)\n",
    "test_dataset = OriginalDataset(test_data_dir,test_df,transform)\n"
   ]
  },
  {
   "cell_type": "code",
   "execution_count": 7,
   "metadata": {
    "id": "4kCaLxp0q1CD",
    "outputId": "195f91ff-7e34-485e-8ac8-bac99069301e"
   },
   "outputs": [
    {
     "name": "stdout",
     "output_type": "stream",
     "text": [
      "(tensor([[[0.0000, 0.0000, 0.0000, 0.0000, 0.0000, 0.0000, 0.0000, 0.0000,\n",
      "          0.0000, 0.0000, 0.0275, 0.0000, 0.0000, 0.0235, 0.0000, 0.0000,\n",
      "          0.0235, 0.0000, 0.0000, 0.0000, 0.0275, 0.0196, 0.0000, 0.0000,\n",
      "          0.0000, 0.0000, 0.0000, 0.0000],\n",
      "         [0.0000, 0.0000, 0.0000, 0.0000, 0.0000, 0.0000, 0.0000, 0.0000,\n",
      "          0.0118, 0.0039, 0.0275, 0.0000, 0.0000, 0.0000, 0.0078, 0.0078,\n",
      "          0.0000, 0.0118, 0.0235, 0.0078, 0.0000, 0.0000, 0.0000, 0.0000,\n",
      "          0.0000, 0.0000, 0.0000, 0.0000],\n",
      "         [0.0000, 0.0000, 0.0000, 0.0000, 0.0000, 0.0000, 0.0000, 0.0000,\n",
      "          0.0000, 0.0000, 0.0235, 0.0000, 0.0392, 0.0000, 0.0392, 0.0000,\n",
      "          0.0000, 0.0118, 0.0118, 0.0000, 0.0000, 0.0118, 0.0314, 0.0431,\n",
      "          0.0000, 0.0000, 0.0000, 0.0000],\n",
      "         [0.0000, 0.0000, 0.0000, 0.0000, 0.0000, 0.0000, 0.0000, 0.0000,\n",
      "          0.0078, 0.0039, 0.0000, 0.0000, 0.0196, 0.0000, 0.0039, 0.0000,\n",
      "          0.0275, 0.0000, 0.0000, 0.0118, 0.0157, 0.0078, 0.0000, 0.0000,\n",
      "          0.0000, 0.0000, 0.0000, 0.0000],\n",
      "         [0.0000, 0.0000, 0.0000, 0.0000, 0.0000, 0.0000, 0.0000, 0.0000,\n",
      "          0.0275, 0.0000, 0.0000, 0.0000, 0.0275, 0.0039, 0.0549, 0.0314,\n",
      "          0.0000, 0.0000, 0.0157, 0.0353, 0.0000, 0.0000, 0.0118, 0.0392,\n",
      "          0.0000, 0.0000, 0.0000, 0.0000],\n",
      "         [0.0000, 0.0000, 0.0000, 0.0000, 0.0000, 0.0000, 0.0000, 0.0000,\n",
      "          0.0000, 0.0000, 0.0118, 0.0078, 0.0000, 0.0118, 0.0000, 0.0000,\n",
      "          0.0314, 0.1686, 0.3686, 0.3804, 0.1922, 0.0745, 0.0392, 0.0000,\n",
      "          0.0000, 0.0000, 0.0000, 0.0000],\n",
      "         [0.0000, 0.0000, 0.0000, 0.0000, 0.0000, 0.0000, 0.0000, 0.0000,\n",
      "          0.0196, 0.0000, 0.0314, 0.0078, 0.0000, 0.0627, 0.0000, 0.1608,\n",
      "          0.5961, 0.8000, 1.0000, 1.0000, 0.8784, 0.6980, 0.3647, 0.0000,\n",
      "          0.0000, 0.0000, 0.0000, 0.0000],\n",
      "         [0.0000, 0.0000, 0.0000, 0.0000, 0.0000, 0.0000, 0.0000, 0.0000,\n",
      "          0.0275, 0.0000, 0.0157, 0.0196, 0.0000, 0.4196, 0.5333, 0.9412,\n",
      "          0.9843, 0.9961, 0.9922, 0.9255, 0.9569, 1.0000, 0.7059, 0.1137,\n",
      "          0.0000, 0.0000, 0.0000, 0.0000],\n",
      "         [0.0039, 0.0157, 0.0000, 0.0157, 0.0000, 0.0078, 0.0000, 0.0000,\n",
      "          0.0078, 0.0000, 0.2588, 0.7333, 0.8549, 0.9294, 1.0000, 1.0000,\n",
      "          0.9569, 0.7333, 0.5882, 0.5020, 0.8314, 1.0000, 0.9647, 0.6627,\n",
      "          0.0000, 0.0039, 0.0000, 0.0157],\n",
      "         [0.0000, 0.0196, 0.0000, 0.0196, 0.0235, 0.0471, 0.0000, 0.0353,\n",
      "          0.1725, 0.6196, 0.9569, 0.9569, 0.9922, 0.9882, 1.0000, 0.9804,\n",
      "          0.9255, 0.0000, 0.0314, 0.0000, 0.3804, 0.9804, 0.9804, 0.9176,\n",
      "          0.2745, 0.0157, 0.0000, 0.0196],\n",
      "         [0.0000, 0.0588, 0.0000, 0.0000, 0.0000, 0.0000, 0.0078, 0.2196,\n",
      "          0.9176, 0.9922, 1.0000, 0.9647, 0.9961, 0.9451, 0.6078, 0.0000,\n",
      "          0.0000, 0.0431, 0.0000, 0.0157, 0.0392, 0.5137, 0.9804, 0.9804,\n",
      "          0.3294, 0.0000, 0.0275, 0.0000],\n",
      "         [0.0000, 0.0471, 0.0000, 0.0000, 0.0118, 0.0392, 0.5059, 0.7922,\n",
      "          1.0000, 0.9569, 0.8941, 0.8667, 0.2353, 0.1529, 0.0000, 0.0078,\n",
      "          0.0275, 0.0000, 0.0510, 0.0000, 0.0000, 0.1059, 0.8745, 0.9843,\n",
      "          0.5294, 0.0000, 0.0471, 0.0000],\n",
      "         [0.0000, 0.0118, 0.0000, 0.0000, 0.0039, 0.1529, 0.9098, 1.0000,\n",
      "          1.0000, 0.9882, 0.8549, 0.1020, 0.0039, 0.0000, 0.0863, 0.0000,\n",
      "          0.0000, 0.0078, 0.0000, 0.0392, 0.0431, 0.0314, 0.4980, 1.0000,\n",
      "          0.9412, 0.0275, 0.0000, 0.0039],\n",
      "         [0.0235, 0.0000, 0.0000, 0.0000, 0.0000, 0.3647, 0.9843, 0.9333,\n",
      "          0.9490, 0.4314, 0.0549, 0.0078, 0.0000, 0.0745, 0.0000, 0.0196,\n",
      "          0.0549, 0.0000, 0.0000, 0.0000, 0.0000, 0.0431, 1.0000, 0.8980,\n",
      "          0.8118, 0.0196, 0.0000, 0.0118],\n",
      "         [0.0039, 0.0000, 0.0039, 0.0078, 0.0235, 0.7922, 1.0000, 0.9804,\n",
      "          0.8353, 0.1882, 0.0000, 0.0275, 0.0000, 0.0235, 0.0000, 0.0000,\n",
      "          0.0157, 0.0118, 0.0039, 0.0471, 0.0196, 0.5098, 0.9451, 1.0000,\n",
      "          0.4039, 0.0000, 0.0157, 0.0157],\n",
      "         [0.0078, 0.0039, 0.0353, 0.0000, 0.0000, 1.0000, 0.9569, 1.0000,\n",
      "          0.1137, 0.0000, 0.0353, 0.0000, 0.0078, 0.0275, 0.0000, 0.0196,\n",
      "          0.0039, 0.0000, 0.0275, 0.0000, 0.1216, 0.8941, 0.9725, 0.9647,\n",
      "          0.3647, 0.0000, 0.0000, 0.0392],\n",
      "         [0.0000, 0.0275, 0.0000, 0.0000, 0.0157, 0.9843, 0.9529, 1.0000,\n",
      "          0.1137, 0.0353, 0.0000, 0.0000, 0.0000, 0.0078, 0.0392, 0.0000,\n",
      "          0.0078, 0.0431, 0.0000, 0.0863, 0.7922, 1.0000, 0.9451, 0.7647,\n",
      "          0.0471, 0.0353, 0.0157, 0.0000],\n",
      "         [0.0392, 0.0000, 0.0039, 0.0314, 0.0000, 1.0000, 1.0000, 0.9373,\n",
      "          0.0824, 0.0000, 0.0235, 0.0863, 0.0078, 0.0314, 0.0000, 0.0314,\n",
      "          0.0000, 0.0000, 0.1176, 0.7922, 1.0000, 0.8980, 0.8000, 0.0000,\n",
      "          0.0275, 0.0196, 0.0078, 0.0000],\n",
      "         [0.0118, 0.0000, 0.0078, 0.0235, 0.0039, 0.9216, 0.9490, 1.0000,\n",
      "          0.7569, 0.0000, 0.0000, 0.0667, 0.0000, 0.0000, 0.0471, 0.0000,\n",
      "          0.0275, 0.2588, 0.8745, 0.9412, 1.0000, 1.0000, 0.3176, 0.0667,\n",
      "          0.0000, 0.0000, 0.0000, 0.0000],\n",
      "         [0.0000, 0.0392, 0.0196, 0.0000, 0.0314, 0.6824, 0.9176, 1.0000,\n",
      "          0.8745, 0.2314, 0.0667, 0.0000, 0.0980, 0.0078, 0.0157, 0.0078,\n",
      "          0.4863, 1.0000, 0.9804, 1.0000, 0.9843, 0.4000, 0.0275, 0.0000,\n",
      "          0.0000, 0.0000, 0.0000, 0.0000],\n",
      "         [0.0078, 0.0118, 0.0314, 0.0000, 0.0000, 0.4118, 1.0000, 0.9804,\n",
      "          0.9961, 0.9882, 0.7569, 0.3569, 0.3490, 0.3686, 0.7059, 1.0000,\n",
      "          1.0000, 0.9725, 0.9569, 0.7765, 0.4157, 0.0118, 0.1098, 0.0000,\n",
      "          0.0000, 0.0000, 0.0000, 0.0000],\n",
      "         [0.0039, 0.0078, 0.0118, 0.0000, 0.0196, 0.0627, 0.6902, 1.0000,\n",
      "          0.9961, 1.0000, 0.9569, 1.0000, 0.9804, 1.0000, 1.0000, 0.9647,\n",
      "          0.9922, 0.8392, 0.6745, 0.1098, 0.0314, 0.0000, 0.0000, 0.0549,\n",
      "          0.0000, 0.0000, 0.0000, 0.0000],\n",
      "         [0.0000, 0.0196, 0.0000, 0.0078, 0.0902, 0.0000, 0.1569, 0.7098,\n",
      "          0.9333, 0.9725, 1.0000, 0.9686, 1.0000, 0.9765, 0.9647, 1.0000,\n",
      "          0.5608, 0.0000, 0.0706, 0.0039, 0.0000, 0.0510, 0.0196, 0.0000,\n",
      "          0.0039, 0.0000, 0.0000, 0.0000],\n",
      "         [0.0157, 0.0000, 0.0039, 0.0000, 0.0000, 0.0431, 0.0000, 0.0824,\n",
      "          0.1490, 0.0980, 0.7843, 0.7020, 0.7176, 0.7608, 0.7490, 0.1137,\n",
      "          0.0314, 0.0078, 0.0000, 0.0118, 0.0118, 0.0000, 0.0353, 0.0000,\n",
      "          0.0000, 0.0000, 0.0000, 0.0000],\n",
      "         [0.0000, 0.0000, 0.0000, 0.0000, 0.0000, 0.0000, 0.0000, 0.0000,\n",
      "          0.0000, 0.0000, 0.0000, 0.0000, 0.0000, 0.0000, 0.0000, 0.0000,\n",
      "          0.0000, 0.0000, 0.0000, 0.0000, 0.0000, 0.0000, 0.0000, 0.0000,\n",
      "          0.0000, 0.0000, 0.0000, 0.0000],\n",
      "         [0.0000, 0.0000, 0.0000, 0.0000, 0.0000, 0.0000, 0.0000, 0.0000,\n",
      "          0.0000, 0.0000, 0.0000, 0.0000, 0.0000, 0.0000, 0.0000, 0.0000,\n",
      "          0.0000, 0.0000, 0.0000, 0.0000, 0.0000, 0.0000, 0.0000, 0.0000,\n",
      "          0.0000, 0.0000, 0.0000, 0.0000],\n",
      "         [0.0000, 0.0000, 0.0000, 0.0000, 0.0000, 0.0000, 0.0000, 0.0000,\n",
      "          0.0000, 0.0000, 0.0000, 0.0000, 0.0000, 0.0000, 0.0000, 0.0000,\n",
      "          0.0000, 0.0000, 0.0000, 0.0000, 0.0000, 0.0000, 0.0000, 0.0000,\n",
      "          0.0000, 0.0000, 0.0000, 0.0000],\n",
      "         [0.0000, 0.0000, 0.0000, 0.0000, 0.0000, 0.0000, 0.0000, 0.0000,\n",
      "          0.0000, 0.0000, 0.0000, 0.0000, 0.0000, 0.0000, 0.0000, 0.0000,\n",
      "          0.0000, 0.0000, 0.0000, 0.0000, 0.0000, 0.0000, 0.0000, 0.0000,\n",
      "          0.0000, 0.0000, 0.0000, 0.0000]]]), tensor(0.))\n"
     ]
    }
   ],
   "source": [
    "print(train_dataset[0])"
   ]
  },
  {
   "cell_type": "code",
   "execution_count": 8,
   "metadata": {
    "id": "ecGSdlTAq1CF"
   },
   "outputs": [],
   "source": [
    "train_loader = DataLoader(train_dataset,batch_size = 4,shuffle = True)\n",
    "valid_loader = DataLoader(train_dataset,batch_size = 4,shuffle = False)\n",
    "test_loader =DataLoader(train_dataset,batch_size = 4,shuffle = False)\n"
   ]
  },
  {
   "cell_type": "code",
   "execution_count": 9,
   "metadata": {
    "id": "62RpFccPq1CH",
    "outputId": "e97ef498-84c3-4264-a1e2-db84f6cbddd7"
   },
   "outputs": [
    {
     "name": "stdout",
     "output_type": "stream",
     "text": [
      "Labels:  [6. 5. 4. 1.]\n"
     ]
    },
    {
     "data": {
      "image/png": "[encoded data removed]",
      "text/plain": [
       "<Figure size 720x288 with 1 Axes>"
      ]
     },
     "metadata": {},
     "output_type": "display_data"
    }
   ],
   "source": [
    "from torchvision.utils import make_grid\n",
    "import numpy as np\n",
    "np.set_printoptions(formatter=dict(int=lambda x: f'{x:4}')) # to widen the printed array\n",
    "\n",
    "# Grab the first batch of images\n",
    "for images,labels in train_loader: \n",
    "    break\n",
    "\n",
    "# Print the first 12 labels\n",
    "print('Labels: ', labels[:4].numpy())\n",
    "\n",
    "# Print the first 12 images\n",
    "im = make_grid(images[:4], nrow=4)  # the default nrow is 8\n",
    "plt.figure(figsize=(10,4))\n",
    "# We need to transpose the images from CWH to WHC\n",
    "plt.imshow(np.transpose(im.numpy(), (1, 2, 0)));"
   ]
  },
  {
   "cell_type": "markdown",
   "metadata": {},
   "source": [
    "# 2. model定義\n",
    "簡単なconvolution networkから"
   ]
  },
  {
   "cell_type": "code",
   "execution_count": 10,
   "metadata": {
    "id": "tXVsZVWAq1CK"
   },
   "outputs": [],
   "source": [
    "import torch.nn as nn\n",
    "\n",
    "conv1 = nn.Conv2d(1, 6, 3, 1)\n",
    "conv2 = nn.Conv2d(conv1.out_channels, 16, 3, 1)"
   ]
  },
  {
   "cell_type": "code",
   "execution_count": 11,
   "metadata": {
    "id": "qDUyKFaIq1CL"
   },
   "outputs": [],
   "source": [
    "# Grab the first MNIST record\n",
    "for i, (X_train, y_train) in enumerate(train_dataset):\n",
    "    break"
   ]
  },
  {
   "cell_type": "code",
   "execution_count": 12,
   "metadata": {
    "id": "n8jN0e9vq1CM",
    "outputId": "dedf8758-09d8-4f14-be00-416287ec27ab"
   },
   "outputs": [
    {
     "name": "stdout",
     "output_type": "stream",
     "text": [
      "torch.Size([1, 1, 28, 28])\n"
     ]
    }
   ],
   "source": [
    "# Create a rank-4 tensor to be passed into the model\n",
    "# (train_loader will have done this already)\n",
    "x = X_train.view(1,1,28,28)\n",
    "print(x.shape)"
   ]
  },
  {
   "cell_type": "code",
   "execution_count": 13,
   "metadata": {
    "id": "OUGYyDBoq1CO",
    "outputId": "2e045b0f-6f67-46ed-bea5-63dff59b96e0"
   },
   "outputs": [
    {
     "name": "stdout",
     "output_type": "stream",
     "text": [
      "torch.Size([1, 6, 26, 26])\n"
     ]
    }
   ],
   "source": [
    "import torch.nn.functional as F\n",
    "# Perform the first convolution/activation\n",
    "x = F.relu(conv1(x))\n",
    "print(x.shape)"
   ]
  },
  {
   "cell_type": "code",
   "execution_count": 14,
   "metadata": {
    "id": "oFpx2LX7q1CP",
    "outputId": "52010e2d-4fff-4ce0-9d2c-add51380ce06"
   },
   "outputs": [
    {
     "name": "stdout",
     "output_type": "stream",
     "text": [
      "torch.Size([1, 6, 13, 13])\n"
     ]
    }
   ],
   "source": [
    "# Run the first pooling layer\n",
    "x = F.max_pool2d(x, 2, 2)\n",
    "print(x.shape)"
   ]
  },
  {
   "cell_type": "code",
   "execution_count": 15,
   "metadata": {
    "id": "1KjLE56Dq1CQ",
    "outputId": "61caea93-2f37-4f37-c1e5-9c217facfa96"
   },
   "outputs": [
    {
     "name": "stdout",
     "output_type": "stream",
     "text": [
      "torch.Size([1, 16, 11, 11])\n"
     ]
    }
   ],
   "source": [
    "\n",
    "# Perform the second convolution/activation\n",
    "x = F.relu(conv2(x))\n",
    "print(x.shape)"
   ]
  },
  {
   "cell_type": "code",
   "execution_count": 16,
   "metadata": {
    "id": "hoxFYHrvq1CR",
    "outputId": "0ab42c11-5a5b-4c77-dc3b-8e3306fe56eb"
   },
   "outputs": [
    {
     "name": "stdout",
     "output_type": "stream",
     "text": [
      "torch.Size([1, 16, 5, 5])\n"
     ]
    }
   ],
   "source": [
    "# Run the second pooling layer\n",
    "x = F.max_pool2d(x, 2, 2)\n",
    "print(x.shape)"
   ]
  },
  {
   "cell_type": "code",
   "execution_count": 17,
   "metadata": {
    "id": "b2R_rBLAq1CS",
    "outputId": "9a0b25d8-9384-432d-cdcd-be67b884a7ca"
   },
   "outputs": [
    {
     "name": "stdout",
     "output_type": "stream",
     "text": [
      "torch.Size([1, 400])\n"
     ]
    }
   ],
   "source": [
    "# Flatten the data\n",
    "x = x.view(-1, 5*5*16)\n",
    "print(x.shape)"
   ]
  },
  {
   "cell_type": "code",
   "execution_count": 18,
   "metadata": {
    "id": "SuuBCpSPq1CT"
   },
   "outputs": [],
   "source": [
    "class ConvNet(nn.Module):\n",
    "    def __init__(self):\n",
    "        super().__init__()\n",
    "        self.conv1 = nn.Conv2d(1, 6, 3, 1)\n",
    "        self.conv2 = nn.Conv2d(self.conv1.out_channels, 16, 3, 1)\n",
    "        self.fc1 = nn.Linear(5*5*16, 120)\n",
    "        self.fc2 = nn.Linear(120, 84)\n",
    "        self.fc3 = nn.Linear(84,1)\n",
    "\n",
    "    def forward(self, x):\n",
    "        x = F.relu(self.conv1(x))\n",
    "        x = F.max_pool2d(x, 2, 2)\n",
    "        x = F.relu(self.conv2(x))\n",
    "        x = F.max_pool2d(x, 2, 2)\n",
    "        x = x.view(-1, 5*5*16)\n",
    "        x = F.relu(self.fc1(x))\n",
    "        x = F.relu(self.fc2(x))\n",
    "        x = self.fc3(x)\n",
    "        return x.squeeze(1)"
   ]
  },
  {
   "cell_type": "code",
   "execution_count": 19,
   "metadata": {
    "id": "KG_AyVXnq1CV",
    "outputId": "83825f7c-7e63-4dda-f434-e698befce3b1"
   },
   "outputs": [
    {
     "data": {
      "text/plain": [
       "ConvNet(\n",
       "  (conv1): Conv2d(1, 6, kernel_size=(3, 3), stride=(1, 1))\n",
       "  (conv2): Conv2d(6, 16, kernel_size=(3, 3), stride=(1, 1))\n",
       "  (fc1): Linear(in_features=400, out_features=120, bias=True)\n",
       "  (fc2): Linear(in_features=120, out_features=84, bias=True)\n",
       "  (fc3): Linear(in_features=84, out_features=1, bias=True)\n",
       ")"
      ]
     },
     "execution_count": 19,
     "metadata": {},
     "output_type": "execute_result"
    }
   ],
   "source": [
    "model = ConvNet()\n",
    "model"
   ]
  },
  {
   "cell_type": "code",
   "execution_count": 20,
   "metadata": {
    "id": "YDJukYheq1CW",
    "outputId": "16cf82e0-2925-4366-d489-db05297d4afc"
   },
   "outputs": [
    {
     "name": "stdout",
     "output_type": "stream",
     "text": [
      "tensor([-0.0491], grad_fn=<SqueezeBackward1>)\n"
     ]
    }
   ],
   "source": [
    "x = X_train.view(1,1,28,28)\n",
    "output = model(x)\n",
    "print(output)"
   ]
  },
  {
   "cell_type": "markdown",
   "metadata": {},
   "source": [
    "# 3.loss関数、optimizerの定義\n",
    "loss関数...cost関数とも呼ばれ、modelの予測結果を評価する関数。  \n",
    "modelの学習の振る舞いを決定するため、かなり重要。  \n",
    "目的に応じてloss関数はカスタマイズ出来る。例えば、ある特定の間違いをした場合のみ、lossを高く評価する等、、、  \n",
    "今回は、簡単のためRMSEで定義（本来はクラス分類タスクなので、cross entropy loss等が望ましい）。\n",
    "\n",
    "optimizer...誤差逆伝播により得られた各パラメータの勾配情報をもとに、パラメータをアップデート"
   ]
  },
  {
   "cell_type": "code",
   "execution_count": 21,
   "metadata": {
    "id": "Z4cIn84Dq1CX"
   },
   "outputs": [],
   "source": [
    "class RMSELoss(nn.Module):\n",
    "    def __init__(self):\n",
    "        super().__init__()\n",
    "        self.mse = nn.MSELoss()\n",
    "\n",
    "    def forward(self, input, target):\n",
    "        return torch.sqrt(self.mse(input, target))\n",
    "    \n",
    "loss_func = RMSELoss()\n",
    "optimizer = torch.optim.Adam(model.parameters(), lr=0.001)"
   ]
  },
  {
   "cell_type": "markdown",
   "metadata": {},
   "source": [
    "# 4.学習とvalidation"
   ]
  },
  {
   "cell_type": "code",
   "execution_count": 29,
   "metadata": {
    "id": "mxPxgPyAq1CX",
    "outputId": "1b5a2e81-b663-4093-d673-8947d103dfe0",
    "scrolled": false
   },
   "outputs": [
    {
     "name": "stdout",
     "output_type": "stream",
     "text": [
      "epoch:  0   train_loss: 0.16811991  valid_loss: 0.12704711  \n",
      "valid_pred : tensor([-0.0969,  3.9688,  0.0199,  1.9593]) valid_true tensor([0., 4., 0., 2.])\n",
      "-----------------------------\n",
      "epoch:  1   train_loss: 0.12429119  valid_loss: 0.10642490  \n",
      "valid_pred : tensor([-0.1303,  4.1543, -0.1139,  1.9200]) valid_true tensor([0., 4., 0., 2.])\n",
      "-----------------------------\n",
      "epoch:  2   train_loss: 0.13390476  valid_loss: 0.12604957  \n",
      "valid_pred : tensor([0.0250, 4.0698, 0.0385, 1.9520]) valid_true tensor([0., 4., 0., 2.])\n",
      "-----------------------------\n",
      "epoch:  3   train_loss: 0.17241146  valid_loss: 0.12492191  \n",
      "valid_pred : tensor([-0.0232,  4.2205, -0.0279,  2.0072]) valid_true tensor([0., 4., 0., 2.])\n",
      "-----------------------------\n",
      "epoch:  4   train_loss: 0.18534913  valid_loss: 0.12054262  \n",
      "valid_pred : tensor([-0.0171,  3.9627, -0.0243,  1.9995]) valid_true tensor([0., 4., 0., 2.])\n",
      "-----------------------------\n",
      "epoch:  5   train_loss: 0.17088357  valid_loss: 0.23090416  \n",
      "valid_pred : tensor([-0.0159,  4.2928, -0.0153,  1.9943]) valid_true tensor([0., 4., 0., 2.])\n",
      "-----------------------------\n",
      "epoch:  6   train_loss: 0.15453105  valid_loss: 0.15261192  \n",
      "valid_pred : tensor([-0.0571,  4.1712, -0.0424,  2.0165]) valid_true tensor([0., 4., 0., 2.])\n",
      "-----------------------------\n",
      "epoch:  7   train_loss: 0.14525955  valid_loss: 0.10994330  \n",
      "valid_pred : tensor([0.0593, 4.0468, 0.0577, 2.1105]) valid_true tensor([0., 4., 0., 2.])\n",
      "-----------------------------\n",
      "epoch:  8   train_loss: 0.15198067  valid_loss: 0.20620949  \n",
      "valid_pred : tensor([0.0598, 4.4327, 0.0709, 2.2405]) valid_true tensor([0., 4., 0., 2.])\n",
      "-----------------------------\n",
      "epoch:  9   train_loss: 0.16806860  valid_loss: 0.28634348  \n",
      "valid_pred : tensor([-1.8209e-03,  4.3104e+00,  2.5386e-02,  2.2143e+00]) valid_true tensor([0., 4., 0., 2.])\n",
      "-----------------------------\n",
      "epoch: 10   train_loss: 0.17108547  valid_loss: 0.13577682  \n",
      "valid_pred : tensor([0.0102, 3.9279, 0.0240, 2.0338]) valid_true tensor([0., 4., 0., 2.])\n",
      "-----------------------------\n",
      "epoch: 11   train_loss: 0.15859389  valid_loss: 0.11982809  \n",
      "valid_pred : tensor([ 8.2744e-03,  3.9809e+00, -2.7720e-03,  2.1135e+00]) valid_true tensor([0., 4., 0., 2.])\n",
      "-----------------------------\n",
      "epoch: 12   train_loss: 0.17033772  valid_loss: 0.22721996  \n",
      "valid_pred : tensor([-5.6147e-04,  4.0735e+00,  5.9075e-04,  2.0091e+00]) valid_true tensor([0., 4., 0., 2.])\n",
      "-----------------------------\n",
      "epoch: 13   train_loss: 0.15533562  valid_loss: 0.18321470  \n",
      "valid_pred : tensor([0.0748, 3.7894, 0.0650, 1.9863]) valid_true tensor([0., 4., 0., 2.])\n",
      "-----------------------------\n",
      "epoch: 14   train_loss: 0.14246632  valid_loss: 0.09797281  \n",
      "valid_pred : tensor([0.0523, 3.8980, 0.0446, 2.0448]) valid_true tensor([0., 4., 0., 2.])\n",
      "-----------------------------\n",
      "epoch: 15   train_loss: 0.10749070  valid_loss: 0.09021783  \n",
      "valid_pred : tensor([0.0238, 3.9787, 0.0347, 1.9885]) valid_true tensor([0., 4., 0., 2.])\n",
      "-----------------------------\n",
      "epoch: 16   train_loss: 0.12230189  valid_loss: 0.10073427  \n",
      "valid_pred : tensor([-0.0913,  3.9742, -0.0715,  2.0189]) valid_true tensor([0., 4., 0., 2.])\n",
      "-----------------------------\n",
      "epoch: 17   train_loss: 0.13826008  valid_loss: 0.10253722  \n",
      "valid_pred : tensor([-0.0046,  4.2034,  0.0285,  2.0520]) valid_true tensor([0., 4., 0., 2.])\n",
      "-----------------------------\n",
      "epoch: 18   train_loss: 0.14359881  valid_loss: 0.11146882  \n",
      "valid_pred : tensor([0.0136, 3.9526, 0.0193, 1.9786]) valid_true tensor([0., 4., 0., 2.])\n",
      "-----------------------------\n",
      "epoch: 19   train_loss: 0.15989072  valid_loss: 0.14713536  \n",
      "valid_pred : tensor([-0.0397,  3.9240, -0.0758,  1.8537]) valid_true tensor([0., 4., 0., 2.])\n",
      "-----------------------------\n",
      "epoch: 20   train_loss: 0.12786873  valid_loss: 0.13643435  \n",
      "valid_pred : tensor([-0.0654,  3.9316, -0.0646,  1.9141]) valid_true tensor([0., 4., 0., 2.])\n",
      "-----------------------------\n",
      "epoch: 21   train_loss: 0.17232838  valid_loss: 0.14503001  \n",
      "valid_pred : tensor([0.1213, 4.0191, 0.0915, 2.0753]) valid_true tensor([0., 4., 0., 2.])\n",
      "-----------------------------\n",
      "epoch: 22   train_loss: 0.12775775  valid_loss: 0.12575268  \n",
      "valid_pred : tensor([ 3.2195e-03,  3.8762e+00, -4.3935e-02,  1.9645e+00]) valid_true tensor([0., 4., 0., 2.])\n",
      "-----------------------------\n",
      "epoch: 23   train_loss: 0.12707609  valid_loss: 0.12913127  \n",
      "valid_pred : tensor([0.1047, 4.2294, 0.0748, 2.0138]) valid_true tensor([0., 4., 0., 2.])\n",
      "-----------------------------\n",
      "epoch: 24   train_loss: 0.15717366  valid_loss: 0.12950481  \n",
      "valid_pred : tensor([0.1012, 3.8370, 0.0895, 1.9924]) valid_true tensor([0., 4., 0., 2.])\n",
      "-----------------------------\n",
      "epoch: 25   train_loss: 0.14347472  valid_loss: 0.13471428  \n",
      "valid_pred : tensor([-0.0055,  4.0037, -0.0080,  2.0466]) valid_true tensor([0., 4., 0., 2.])\n",
      "-----------------------------\n",
      "epoch: 26   train_loss: 0.19357829  valid_loss: 0.15905019  \n",
      "valid_pred : tensor([ 0.0197,  4.3368, -0.0050,  1.9834]) valid_true tensor([0., 4., 0., 2.])\n",
      "-----------------------------\n",
      "epoch: 27   train_loss: 0.12710873  valid_loss: 0.10774101  \n",
      "valid_pred : tensor([0.0674, 3.9849, 0.0378, 1.8608]) valid_true tensor([0., 4., 0., 2.])\n",
      "-----------------------------\n",
      "epoch: 28   train_loss: 0.17803158  valid_loss: 0.15866713  \n",
      "valid_pred : tensor([0.0399, 3.8450, 0.0254, 1.8549]) valid_true tensor([0., 4., 0., 2.])\n",
      "-----------------------------\n",
      "epoch: 29   train_loss: 0.19643683  valid_loss: 0.20285420  \n",
      "valid_pred : tensor([0.1062, 3.7904, 0.0848, 1.9782]) valid_true tensor([0., 4., 0., 2.])\n",
      "-----------------------------\n",
      "epoch: 30   train_loss: 0.16936553  valid_loss: 0.09369588  \n",
      "valid_pred : tensor([0.0317, 4.1079, 0.0781, 1.9733]) valid_true tensor([0., 4., 0., 2.])\n",
      "-----------------------------\n",
      "epoch: 31   train_loss: 0.12001986  valid_loss: 0.19938727  \n",
      "valid_pred : tensor([-0.0309,  3.8117, -0.0680,  1.8031]) valid_true tensor([0., 4., 0., 2.])\n",
      "-----------------------------\n",
      "epoch: 32   train_loss: 0.15393108  valid_loss: 0.17379607  \n",
      "valid_pred : tensor([0.0478, 4.2329, 0.0318, 2.0945]) valid_true tensor([0., 4., 0., 2.])\n",
      "-----------------------------\n",
      "epoch: 33   train_loss: 0.20098005  valid_loss: 0.12087377  \n",
      "valid_pred : tensor([-0.0563,  4.2206, -0.0526,  1.9328]) valid_true tensor([0., 4., 0., 2.])\n",
      "-----------------------------\n",
      "epoch: 34   train_loss: 0.14308789  valid_loss: 0.14844845  \n",
      "valid_pred : tensor([0.1094, 4.1782, 0.0831, 1.9831]) valid_true tensor([0., 4., 0., 2.])\n",
      "-----------------------------\n",
      "epoch: 35   train_loss: 0.16656762  valid_loss: 0.15021804  \n",
      "valid_pred : tensor([-0.0907,  4.2149, -0.0655,  2.0570]) valid_true tensor([0., 4., 0., 2.])\n",
      "-----------------------------\n",
      "epoch: 36   train_loss: 0.12361008  valid_loss: 0.23171040  \n",
      "valid_pred : tensor([1.1501e-04, 4.1829e+00, 5.2128e-03, 2.0142e+00]) valid_true tensor([0., 4., 0., 2.])\n",
      "-----------------------------\n",
      "epoch: 37   train_loss: 0.11576677  valid_loss: 0.10326665  \n",
      "valid_pred : tensor([0.1628, 3.8635, 0.1356, 1.9310]) valid_true tensor([0., 4., 0., 2.])\n",
      "-----------------------------\n",
      "epoch: 38   train_loss: 0.13262490  valid_loss: 0.10158116  \n",
      "valid_pred : tensor([0.0359, 3.9164, 0.0816, 1.9775]) valid_true tensor([0., 4., 0., 2.])\n",
      "-----------------------------\n",
      "epoch: 39   train_loss: 0.10801791  valid_loss: 0.11445712  \n",
      "valid_pred : tensor([-0.1081,  4.0228, -0.1294,  1.7600]) valid_true tensor([0., 4., 0., 2.])\n",
      "-----------------------------\n",
      "epoch: 40   train_loss: 0.12203208  valid_loss: 0.08380628  \n",
      "valid_pred : tensor([0.1421, 4.0176, 0.1220, 1.9487]) valid_true tensor([0., 4., 0., 2.])\n",
      "-----------------------------\n",
      "epoch: 41   train_loss: 0.10993974  valid_loss: 0.08874953  \n",
      "valid_pred : tensor([0.1372, 4.1612, 0.1279, 1.9077]) valid_true tensor([0., 4., 0., 2.])\n",
      "-----------------------------\n",
      "epoch: 42   train_loss: 0.12663942  valid_loss: 0.11833872  \n",
      "valid_pred : tensor([0.0512, 4.0638, 0.1268, 1.9762]) valid_true tensor([0., 4., 0., 2.])\n",
      "-----------------------------\n",
      "epoch: 43   train_loss: 0.16838560  valid_loss: 0.09538525  \n",
      "valid_pred : tensor([0.0407, 4.1351, 0.0241, 2.0033]) valid_true tensor([0., 4., 0., 2.])\n",
      "-----------------------------\n",
      "epoch: 44   train_loss: 0.16299392  valid_loss: 0.12699606  \n",
      "valid_pred : tensor([0.0499, 3.9379, 0.0509, 1.9396]) valid_true tensor([0., 4., 0., 2.])\n",
      "-----------------------------\n"
     ]
    },
    {
     "name": "stdout",
     "output_type": "stream",
     "text": [
      "epoch: 45   train_loss: 0.18038178  valid_loss: 0.12083614  \n",
      "valid_pred : tensor([0.0196, 3.9270, 0.0589, 2.0125]) valid_true tensor([0., 4., 0., 2.])\n",
      "-----------------------------\n",
      "epoch: 46   train_loss: 0.16854836  valid_loss: 0.14067454  \n",
      "valid_pred : tensor([0.0365, 4.1278, 0.0523, 2.0196]) valid_true tensor([0., 4., 0., 2.])\n",
      "-----------------------------\n",
      "epoch: 47   train_loss: 0.16996771  valid_loss: 0.17228819  \n",
      "valid_pred : tensor([-0.0953,  3.9241, -0.0906,  1.8779]) valid_true tensor([0., 4., 0., 2.])\n",
      "-----------------------------\n",
      "epoch: 48   train_loss: 0.14445656  valid_loss: 0.13373481  \n",
      "valid_pred : tensor([0.0272, 4.1108, 0.0763, 2.1082]) valid_true tensor([0., 4., 0., 2.])\n",
      "-----------------------------\n",
      "epoch: 49   train_loss: 0.11081313  valid_loss: 0.10961472  \n",
      "valid_pred : tensor([0.0070, 4.0678, 0.0606, 2.0044]) valid_true tensor([0., 4., 0., 2.])\n",
      "-----------------------------\n"
     ]
    }
   ],
   "source": [
    "\n",
    "epochs = 50\n",
    "train_losses = []\n",
    "valid_losses = []\n",
    "\n",
    "for i in range(epochs):\n",
    "    train_loss = 0\n",
    "    valid_loss = 0\n",
    "    valid_pred = []\n",
    "    valid_true = []\n",
    "\n",
    "    \n",
    "    for X_train, y_train in train_loader:\n",
    "    \n",
    "        y_pred = model(X_train)  # we don't flatten X-train here\n",
    "        batch_loss = loss_func(y_pred, y_train)\n",
    " \n",
    "        \n",
    "        # Update parameters\n",
    "        optimizer.zero_grad()\n",
    "        batch_loss.backward()\n",
    "        optimizer.step()\n",
    "        \n",
    "        train_loss += batch_loss.item()\n",
    "        \n",
    "    train_loss /= len(train_loader)\n",
    "        \n",
    "    train_losses.append(train_loss)\n",
    "        \n",
    "\n",
    "    for X_val, y_val in valid_loader:\n",
    "        with torch.no_grad():\n",
    "            y_pred = model(X_val)\n",
    "        valid_pred.append(y_pred)\n",
    "        valid_true.append(y_val)\n",
    "            \n",
    "        batch_loss = loss_func(y_pred, y_val)\n",
    "        valid_loss += batch_loss.item()\n",
    "\n",
    "    valid_loss /= len(valid_loader)\n",
    "    valid_losses.append(valid_loss)\n",
    "                        \n",
    "    \n",
    "    print(f'epoch: {i:2}   train_loss: {train_loss:10.8f}  valid_loss: {valid_loss:10.8f}  ')\n",
    "    print(f'valid_pred : {valid_pred[0]} valid_true {valid_true[0]}')\n",
    "    print('-----------------------------')"
   ]
  },
  {
   "cell_type": "code",
   "execution_count": 30,
   "metadata": {
    "id": "yFICSXXWq1CY"
   },
   "outputs": [
    {
     "data": {
      "image/png": "[encoded data removed]",
      "text/plain": [
       "<Figure size 432x288 with 1 Axes>"
      ]
     },
     "metadata": {},
     "output_type": "display_data"
    }
   ],
   "source": [
    "plt.plot(train_losses, label='training loss')\n",
    "plt.plot(valid_losses, label='validation loss')\n",
    "plt.title('Loss at the end of each epoch')\n",
    "plt.legend();"
   ]
  },
  {
   "cell_type": "markdown",
   "metadata": {},
   "source": [
    "# 5. test dataによる性能評価"
   ]
  },
  {
   "cell_type": "code",
   "execution_count": 31,
   "metadata": {},
   "outputs": [
    {
     "name": "stdout",
     "output_type": "stream",
     "text": [
      "test loss : 0.1096\n"
     ]
    }
   ],
   "source": [
    "test_loss=0\n",
    "for X_test,y_test in test_loader:\n",
    "    with torch.no_grad():\n",
    "            y_pred = model(X_test)\n",
    "            \n",
    "    batch_loss = loss_func(y_pred, y_test)\n",
    "    test_loss += batch_loss.item()\n",
    "\n",
    "test_loss /= len(test_loader)\n",
    "print(f'test loss : {test_loss:.4f}')\n"
   ]
  }
 ],
 "metadata": {
  "colab": {
   "collapsed_sections": [],
   "name": "000_CNN_pytorch.ipynb",
   "provenance": []
  },
  "kernelspec": {
   "display_name": "Python 3",
   "language": "python",
   "name": "python3"
  },
  "language_info": {
   "codemirror_mode": {
    "name": "ipython",
    "version": 3
   },
   "file_extension": ".py",
   "mimetype": "text/x-python",
   "name": "python",
   "nbconvert_exporter": "python",
   "pygments_lexer": "ipython3",
   "version": "3.6.6"
  }
 },
 "nbformat": 4,
 "nbformat_minor": 1
}
